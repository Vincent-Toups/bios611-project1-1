{
 "cells": [
  {
   "cell_type": "code",
   "execution_count": 24,
   "metadata": {},
   "outputs": [],
   "source": [
    "import pandas as pd\n",
    "import numpy as np\n",
    "from sklearn import preprocessing\n",
    "import matplotlib.pyplot as plt \n",
    "plt.rc(\"font\", size=14)\n",
    "from sklearn.linear_model import LogisticRegression\n",
    "from sklearn import metrics\n",
    "from sklearn.model_selection import train_test_split\n",
    "from sklearn.metrics import roc_auc_score\n",
    "from sklearn.metrics import roc_curve\n",
    "from sklearn.metrics import classification_report\n",
    "import seaborn as sns\n",
    "sns.set(style=\"white\")\n",
    "sns.set(style=\"whitegrid\", color_codes=True)"
   ]
  },
  {
   "cell_type": "code",
   "execution_count": 3,
   "metadata": {},
   "outputs": [
    {
     "data": {
      "text/html": [
       "<div>\n",
       "<style scoped>\n",
       "    .dataframe tbody tr th:only-of-type {\n",
       "        vertical-align: middle;\n",
       "    }\n",
       "\n",
       "    .dataframe tbody tr th {\n",
       "        vertical-align: top;\n",
       "    }\n",
       "\n",
       "    .dataframe thead th {\n",
       "        text-align: right;\n",
       "    }\n",
       "</style>\n",
       "<table border=\"1\" class=\"dataframe\">\n",
       "  <thead>\n",
       "    <tr style=\"text-align: right;\">\n",
       "      <th></th>\n",
       "      <th>subject_id</th>\n",
       "      <th>gender</th>\n",
       "      <th>anchor_age</th>\n",
       "      <th>language</th>\n",
       "      <th>marital_status</th>\n",
       "      <th>ethnicity</th>\n",
       "      <th>Aspirin</th>\n",
       "      <th>Statin</th>\n",
       "      <th>Loop</th>\n",
       "      <th>Insulin</th>\n",
       "      <th>Nitroglycerin</th>\n",
       "      <th>Warfarin</th>\n",
       "      <th>death</th>\n",
       "    </tr>\n",
       "  </thead>\n",
       "  <tbody>\n",
       "    <tr>\n",
       "      <th>0</th>\n",
       "      <td>10000980</td>\n",
       "      <td>F</td>\n",
       "      <td>73</td>\n",
       "      <td>ENGLISH</td>\n",
       "      <td>MARRIED</td>\n",
       "      <td>BLACK/AFRICAN AMERICAN</td>\n",
       "      <td>1.0</td>\n",
       "      <td>1.0</td>\n",
       "      <td>1.0</td>\n",
       "      <td>1.0</td>\n",
       "      <td>0.0</td>\n",
       "      <td>1.0</td>\n",
       "      <td>0</td>\n",
       "    </tr>\n",
       "    <tr>\n",
       "      <th>1</th>\n",
       "      <td>10001667</td>\n",
       "      <td>F</td>\n",
       "      <td>86</td>\n",
       "      <td>ENGLISH</td>\n",
       "      <td>DIVORCED</td>\n",
       "      <td>WHITE</td>\n",
       "      <td>0.0</td>\n",
       "      <td>1.0</td>\n",
       "      <td>0.0</td>\n",
       "      <td>1.0</td>\n",
       "      <td>0.0</td>\n",
       "      <td>0.0</td>\n",
       "      <td>0</td>\n",
       "    </tr>\n",
       "    <tr>\n",
       "      <th>2</th>\n",
       "      <td>10001877</td>\n",
       "      <td>M</td>\n",
       "      <td>89</td>\n",
       "      <td>ENGLISH</td>\n",
       "      <td>MARRIED</td>\n",
       "      <td>WHITE</td>\n",
       "      <td>0.0</td>\n",
       "      <td>1.0</td>\n",
       "      <td>1.0</td>\n",
       "      <td>1.0</td>\n",
       "      <td>0.0</td>\n",
       "      <td>1.0</td>\n",
       "      <td>0</td>\n",
       "    </tr>\n",
       "    <tr>\n",
       "      <th>3</th>\n",
       "      <td>10002013</td>\n",
       "      <td>F</td>\n",
       "      <td>53</td>\n",
       "      <td>ENGLISH</td>\n",
       "      <td>SINGLE</td>\n",
       "      <td>WHITE</td>\n",
       "      <td>1.0</td>\n",
       "      <td>1.0</td>\n",
       "      <td>1.0</td>\n",
       "      <td>1.0</td>\n",
       "      <td>1.0</td>\n",
       "      <td>0.0</td>\n",
       "      <td>0</td>\n",
       "    </tr>\n",
       "    <tr>\n",
       "      <th>4</th>\n",
       "      <td>10002131</td>\n",
       "      <td>F</td>\n",
       "      <td>87</td>\n",
       "      <td>ENGLISH</td>\n",
       "      <td>WIDOWED</td>\n",
       "      <td>WHITE</td>\n",
       "      <td>1.0</td>\n",
       "      <td>0.0</td>\n",
       "      <td>1.0</td>\n",
       "      <td>0.0</td>\n",
       "      <td>0.0</td>\n",
       "      <td>0.0</td>\n",
       "      <td>0</td>\n",
       "    </tr>\n",
       "    <tr>\n",
       "      <th>...</th>\n",
       "      <td>...</td>\n",
       "      <td>...</td>\n",
       "      <td>...</td>\n",
       "      <td>...</td>\n",
       "      <td>...</td>\n",
       "      <td>...</td>\n",
       "      <td>...</td>\n",
       "      <td>...</td>\n",
       "      <td>...</td>\n",
       "      <td>...</td>\n",
       "      <td>...</td>\n",
       "      <td>...</td>\n",
       "      <td>...</td>\n",
       "    </tr>\n",
       "    <tr>\n",
       "      <th>11976</th>\n",
       "      <td>19994505</td>\n",
       "      <td>M</td>\n",
       "      <td>80</td>\n",
       "      <td>?</td>\n",
       "      <td>MARRIED</td>\n",
       "      <td>WHITE</td>\n",
       "      <td>1.0</td>\n",
       "      <td>1.0</td>\n",
       "      <td>1.0</td>\n",
       "      <td>1.0</td>\n",
       "      <td>0.0</td>\n",
       "      <td>0.0</td>\n",
       "      <td>1</td>\n",
       "    </tr>\n",
       "    <tr>\n",
       "      <th>11977</th>\n",
       "      <td>19997293</td>\n",
       "      <td>M</td>\n",
       "      <td>76</td>\n",
       "      <td>ENGLISH</td>\n",
       "      <td>SINGLE</td>\n",
       "      <td>WHITE</td>\n",
       "      <td>1.0</td>\n",
       "      <td>1.0</td>\n",
       "      <td>1.0</td>\n",
       "      <td>1.0</td>\n",
       "      <td>0.0</td>\n",
       "      <td>1.0</td>\n",
       "      <td>0</td>\n",
       "    </tr>\n",
       "    <tr>\n",
       "      <th>11978</th>\n",
       "      <td>19997367</td>\n",
       "      <td>F</td>\n",
       "      <td>63</td>\n",
       "      <td>ENGLISH</td>\n",
       "      <td>MARRIED</td>\n",
       "      <td>WHITE</td>\n",
       "      <td>1.0</td>\n",
       "      <td>1.0</td>\n",
       "      <td>1.0</td>\n",
       "      <td>1.0</td>\n",
       "      <td>1.0</td>\n",
       "      <td>0.0</td>\n",
       "      <td>0</td>\n",
       "    </tr>\n",
       "    <tr>\n",
       "      <th>11979</th>\n",
       "      <td>19997911</td>\n",
       "      <td>F</td>\n",
       "      <td>79</td>\n",
       "      <td>ENGLISH</td>\n",
       "      <td>MARRIED</td>\n",
       "      <td>WHITE</td>\n",
       "      <td>1.0</td>\n",
       "      <td>1.0</td>\n",
       "      <td>1.0</td>\n",
       "      <td>0.0</td>\n",
       "      <td>0.0</td>\n",
       "      <td>0.0</td>\n",
       "      <td>0</td>\n",
       "    </tr>\n",
       "    <tr>\n",
       "      <th>11980</th>\n",
       "      <td>19998330</td>\n",
       "      <td>F</td>\n",
       "      <td>71</td>\n",
       "      <td>ENGLISH</td>\n",
       "      <td>MARRIED</td>\n",
       "      <td>BLACK/AFRICAN AMERICAN</td>\n",
       "      <td>1.0</td>\n",
       "      <td>0.0</td>\n",
       "      <td>1.0</td>\n",
       "      <td>1.0</td>\n",
       "      <td>1.0</td>\n",
       "      <td>1.0</td>\n",
       "      <td>0</td>\n",
       "    </tr>\n",
       "  </tbody>\n",
       "</table>\n",
       "<p>11562 rows × 13 columns</p>\n",
       "</div>"
      ],
      "text/plain": [
       "       subject_id gender  anchor_age language marital_status  \\\n",
       "0        10000980      F          73  ENGLISH        MARRIED   \n",
       "1        10001667      F          86  ENGLISH       DIVORCED   \n",
       "2        10001877      M          89  ENGLISH        MARRIED   \n",
       "3        10002013      F          53  ENGLISH         SINGLE   \n",
       "4        10002131      F          87  ENGLISH        WIDOWED   \n",
       "...           ...    ...         ...      ...            ...   \n",
       "11976    19994505      M          80        ?        MARRIED   \n",
       "11977    19997293      M          76  ENGLISH         SINGLE   \n",
       "11978    19997367      F          63  ENGLISH        MARRIED   \n",
       "11979    19997911      F          79  ENGLISH        MARRIED   \n",
       "11980    19998330      F          71  ENGLISH        MARRIED   \n",
       "\n",
       "                    ethnicity  Aspirin  Statin  Loop  Insulin  Nitroglycerin  \\\n",
       "0      BLACK/AFRICAN AMERICAN      1.0     1.0   1.0      1.0            0.0   \n",
       "1                       WHITE      0.0     1.0   0.0      1.0            0.0   \n",
       "2                       WHITE      0.0     1.0   1.0      1.0            0.0   \n",
       "3                       WHITE      1.0     1.0   1.0      1.0            1.0   \n",
       "4                       WHITE      1.0     0.0   1.0      0.0            0.0   \n",
       "...                       ...      ...     ...   ...      ...            ...   \n",
       "11976                   WHITE      1.0     1.0   1.0      1.0            0.0   \n",
       "11977                   WHITE      1.0     1.0   1.0      1.0            0.0   \n",
       "11978                   WHITE      1.0     1.0   1.0      1.0            1.0   \n",
       "11979                   WHITE      1.0     1.0   1.0      0.0            0.0   \n",
       "11980  BLACK/AFRICAN AMERICAN      1.0     0.0   1.0      1.0            1.0   \n",
       "\n",
       "       Warfarin  death  \n",
       "0           1.0      0  \n",
       "1           0.0      0  \n",
       "2           1.0      0  \n",
       "3           0.0      0  \n",
       "4           0.0      0  \n",
       "...         ...    ...  \n",
       "11976       0.0      1  \n",
       "11977       1.0      0  \n",
       "11978       0.0      0  \n",
       "11979       0.0      0  \n",
       "11980       1.0      0  \n",
       "\n",
       "[11562 rows x 13 columns]"
      ]
     },
     "execution_count": 3,
     "metadata": {},
     "output_type": "execute_result"
    }
   ],
   "source": [
    "data = pd.read_csv(\"~/derived_data/hf_pred.csv\")\n",
    "data = data.dropna()\n",
    "data"
   ]
  },
  {
   "cell_type": "code",
   "execution_count": 4,
   "metadata": {},
   "outputs": [
    {
     "data": {
      "text/plain": [
       "Index(['death', 'anchor_age', 'gender_F', 'marital_status_DIVORCED',\n",
       "       'marital_status_MARRIED', 'marital_status_SINGLE',\n",
       "       'marital_status_WIDOWED', 'ethnicity_AMERICAN INDIAN/ALASKA NATIVE',\n",
       "       'ethnicity_ASIAN', 'ethnicity_BLACK/AFRICAN AMERICAN',\n",
       "       'ethnicity_HISPANIC/LATINO', 'ethnicity_OTHER',\n",
       "       'ethnicity_UNABLE TO OBTAIN', 'ethnicity_UNKNOWN', 'ethnicity_WHITE',\n",
       "       'language_ENGLISH', 'Aspirin_1.0', 'Statin_1.0', 'Loop_1.0',\n",
       "       'Insulin_1.0', 'Nitroglycerin_1.0', 'Warfarin_1.0'],\n",
       "      dtype='object')"
      ]
     },
     "execution_count": 4,
     "metadata": {},
     "output_type": "execute_result"
    }
   ],
   "source": [
    "feature_cols=['gender', 'anchor_age', 'marital_status', 'ethnicity','Aspirin','Loop','Insulin','Nitroglycerin','Warfarin']\n",
    "df=pd.get_dummies(data, columns=['gender', 'marital_status', 'ethnicity', 'language', 'Aspirin','Statin','Loop','Insulin','Nitroglycerin','Warfarin'])\n",
    "df.drop(df.columns[[0, 4, 17, 19, 21, 23, 25, 27, 29]], axis=1, inplace=True)\n",
    "order=['death','anchor_age', 'gender_F', 'marital_status_DIVORCED',\n",
    "       'marital_status_MARRIED', 'marital_status_SINGLE',\n",
    "       'marital_status_WIDOWED', 'ethnicity_AMERICAN INDIAN/ALASKA NATIVE',\n",
    "       'ethnicity_ASIAN', 'ethnicity_BLACK/AFRICAN AMERICAN',\n",
    "       'ethnicity_HISPANIC/LATINO', 'ethnicity_OTHER',\n",
    "       'ethnicity_UNABLE TO OBTAIN', 'ethnicity_UNKNOWN', 'ethnicity_WHITE',\n",
    "       'language_ENGLISH', 'Aspirin_1.0', 'Statin_1.0', 'Loop_1.0',\n",
    "       'Insulin_1.0', 'Nitroglycerin_1.0', 'Warfarin_1.0']\n",
    "df=df.reindex(columns=order)\n",
    "df.columns"
   ]
  },
  {
   "cell_type": "code",
   "execution_count": 5,
   "metadata": {},
   "outputs": [],
   "source": [
    "X=df.iloc[:,1:]\n",
    "y=df.iloc[:,0]"
   ]
  },
  {
   "cell_type": "code",
   "execution_count": 6,
   "metadata": {},
   "outputs": [],
   "source": [
    "X_train, X_test, y_train, y_test = train_test_split(X, y, random_state=0)"
   ]
  },
  {
   "cell_type": "code",
   "execution_count": 7,
   "metadata": {},
   "outputs": [],
   "source": [
    "min_max_scaler = preprocessing.MinMaxScaler()\n",
    "X_train_minmax = min_max_scaler.fit_transform(X_train)\n",
    "X_test_minmax = min_max_scaler.fit_transform(X_test)"
   ]
  },
  {
   "cell_type": "code",
   "execution_count": 8,
   "metadata": {},
   "outputs": [
    {
     "data": {
      "text/plain": [
       "LogisticRegression(random_state=0)"
      ]
     },
     "execution_count": 8,
     "metadata": {},
     "output_type": "execute_result"
    }
   ],
   "source": [
    "logreg = LogisticRegression(solver='lbfgs',random_state=0)\n",
    "logreg.fit(X_train_minmax, y_train)"
   ]
  },
  {
   "cell_type": "code",
   "execution_count": 9,
   "metadata": {},
   "outputs": [
    {
     "name": "stdout",
     "output_type": "stream",
     "text": [
      "Accuracy: 0.97\n"
     ]
    }
   ],
   "source": [
    "predicted_y = logreg.predict(X_test_minmax)\n",
    "print('Accuracy: {:.2f}'.format(logreg.score(X_test_minmax, y_test)))"
   ]
  },
  {
   "cell_type": "code",
   "execution_count": 12,
   "metadata": {},
   "outputs": [
    {
     "data": {
      "image/png": "[encoded data removed]",
      "text/plain": [
       "<Figure size 432x288 with 1 Axes>"
      ]
     },
     "metadata": {},
     "output_type": "display_data"
    }
   ],
   "source": [
    "logit_roc_auc = roc_auc_score(y_test, predicted_y)\n",
    "fpr, tpr, thresholds = roc_curve(y_test, logreg.predict_proba(X_test_minmax)[:,1])\n",
    "plt.figure()\n",
    "plt.plot(fpr, tpr, label='Logistic Regression (area = %0.2f)' % logit_roc_auc)\n",
    "plt.plot([0, 1], [0, 1],'r--')\n",
    "plt.xlim([0.0, 1.0])\n",
    "plt.ylim([0.0, 1.05])\n",
    "plt.xlabel('False Positive Rate')\n",
    "plt.ylabel('True Positive Rate')\n",
    "plt.title('Receiver operating characteristic')\n",
    "plt.legend(loc=\"lower right\")\n",
    "plt.savefig('figures/Log_ROC')\n",
    "plt.show()"
   ]
  },
  {
   "cell_type": "code",
   "execution_count": 25,
   "metadata": {},
   "outputs": [
    {
     "name": "stdout",
     "output_type": "stream",
     "text": [
      "              precision    recall  f1-score   support\n",
      "\n",
      "           0       0.97      1.00      0.98      2802\n",
      "           1       0.00      0.00      0.00        89\n",
      "\n",
      "    accuracy                           0.97      2891\n",
      "   macro avg       0.48      0.50      0.49      2891\n",
      "weighted avg       0.94      0.97      0.95      2891\n",
      "\n"
     ]
    },
    {
     "name": "stderr",
     "output_type": "stream",
     "text": [
      "/usr/local/lib/python3.8/dist-packages/sklearn/metrics/_classification.py:1221: UndefinedMetricWarning: Precision and F-score are ill-defined and being set to 0.0 in labels with no predicted samples. Use `zero_division` parameter to control this behavior.\n",
      "  _warn_prf(average, modifier, msg_start, len(result))\n"
     ]
    }
   ],
   "source": [
    "print(classification_report(y_test,predicted_y))"
   ]
  }
 ],
 "metadata": {
  "kernelspec": {
   "display_name": "Python 3",
   "language": "python",
   "name": "python3"
  },
  "language_info": {
   "codemirror_mode": {
    "name": "ipython",
    "version": 3
   },
   "file_extension": ".py",
   "mimetype": "text/x-python",
   "name": "python",
   "nbconvert_exporter": "python",
   "pygments_lexer": "ipython3",
   "version": "3.8.5"
  }
 },
 "nbformat": 4,
 "nbformat_minor": 4
}
